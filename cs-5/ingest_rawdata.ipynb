{
 "cells": [
  {
   "cell_type": "code",
   "execution_count": 0,
   "metadata": {
    "application/vnd.databricks.v1+cell": {
     "cellMetadata": {
      "byteLimit": 2048000,
      "rowLimit": 10000
     },
     "inputWidgets": {},
     "nuid": "49d28848-ac7a-48fa-8f19-02922b8b2646",
     "showTitle": false,
     "tableResultSettingsMap": {},
     "title": ""
    }
   },
   "outputs": [
    {
     "output_type": "stream",
     "name": "stdout",
     "output_type": "stream",
     "text": [
      "dbfs:/FileStore/shared_uploads/traininguser4@sudosu.ai/data-2.csv\nIngestion complete and saved data\n"
     ]
    }
   ],
   "source": [
    "# Databricks notebook source\n",
    "dbutils.widgets.text(\"source_path\",\"dbfs:/FileStore/shared_uploads/traininguser4@sudosu.ai/data-2.csv\")\n",
    "source = dbutils.widgets.get(\"source_path\")\n",
    "print(source)\n",
    "\n",
    "df = spark.read.csv(source, header=True, inferSchema=True)\n",
    "df.write.mode(\"overwrite\").format(\"delta\").save(\"dbfs:/FileStore/shared_uploads/traininguser4@sudosu.ai/raw_data\")\n",
    "\n",
    "print(\"Ingestion complete and saved data\")"
   ]
  },
  {
   "cell_type": "code",
   "execution_count": 0,
   "metadata": {
    "application/vnd.databricks.v1+cell": {
     "cellMetadata": {},
     "inputWidgets": {},
     "nuid": "2bcde65b-bc37-48a4-8724-e58c42478971",
     "showTitle": false,
     "tableResultSettingsMap": {},
     "title": ""
    }
   },
   "outputs": [],
   "source": []
  }
 ],
 "metadata": {
  "application/vnd.databricks.v1+notebook": {
   "computePreferences": null,
   "dashboards": [],
   "environmentMetadata": {
    "base_environment": "",
    "environment_version": "2"
   },
   "inputWidgetPreferences": null,
   "language": "python",
   "notebookMetadata": {
    "pythonIndentUnit": 4
   },
   "notebookName": "ingest_rawdata",
   "widgets": {
    "source_path": {
     "currentValue": "dbfs:/FileStore/shared_uploads/traininguser4@sudosu.ai/data-2.csv",
     "nuid": "29447239-5419-4513-88a9-68a5b055f274",
     "typedWidgetInfo": {
      "autoCreated": false,
      "defaultValue": "dbfs:/FileStore/shared_uploads/traininguser4@sudosu.ai/data-2.csv",
      "label": null,
      "name": "source_path",
      "options": {
       "widgetDisplayType": "Text",
       "validationRegex": null
      },
      "parameterDataType": "String"
     },
     "widgetInfo": {
      "widgetType": "text",
      "defaultValue": "dbfs:/FileStore/shared_uploads/traininguser4@sudosu.ai/data-2.csv",
      "label": null,
      "name": "source_path",
      "options": {
       "widgetType": "text",
       "autoCreated": null,
       "validationRegex": null
      }
     }
    }
   }
  },
  "language_info": {
   "name": "python"
  }
 },
 "nbformat": 4,
 "nbformat_minor": 0
}