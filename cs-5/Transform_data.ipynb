{
 "cells": [
  {
   "cell_type": "code",
   "execution_count": 0,
   "metadata": {
    "application/vnd.databricks.v1+cell": {
     "cellMetadata": {
      "byteLimit": 2048000,
      "rowLimit": 10000
     },
     "inputWidgets": {},
     "nuid": "69816770-fe78-4422-a42e-7b547bd57ce8",
     "showTitle": false,
     "tableResultSettingsMap": {},
     "title": ""
    }
   },
   "outputs": [
    {
     "output_type": "stream",
     "name": "stdout",
     "output_type": "stream",
     "text": [
      "Reading raw iot data\n+-------+---------+-------------------+-------------+------------+--------------+------------+----------+------+-------------+\n|PlantID| DeviceID|       TimestampUTC|Temperature_C|Humidity_pct|Vibration_mm_s|Pressure_bar|Energy_kWh|Status|Temperature_F|\n+-------+---------+-------------------+-------------+------------+--------------+------------+----------+------+-------------+\n|PLANT_A|SENSOR_A1|2025-08-14 09:00:00|         72.4|        45.6|           2.1|         3.2|       5.4|    OK|       162.32|\n|PLANT_A|SENSOR_A2|2025-08-14 09:00:05|         71.9|        46.2|           2.0|         3.3|       5.5|    OK|       161.42|\n|PLANT_A|SENSOR_A3|2025-08-14 09:00:10|         73.1|        45.8|           2.4|         3.4|       5.6|    OK|       163.58|\n|PLANT_B|SENSOR_B1|2025-08-14 09:00:15|         68.9|        48.0|           1.9|         3.1|       4.9|    OK|       156.02|\n|PLANT_B|SENSOR_B2|2025-08-14 09:00:20|         69.5|        47.5|           2.3|         3.0|       5.0|    OK|        157.1|\n+-------+---------+-------------------+-------------+------------+--------------+------------+----------+------+-------------+\nonly showing top 5 rows\nTransformation complete and saved data\n"
     ]
    }
   ],
   "source": [
    "# Databricks notebook source\n",
    "print(\"Reading raw iot data\")\n",
    "df = spark.read.format(\"delta\").load(\"dbfs:/FileStore/shared_uploads/traininguser4@sudosu.ai/raw_data\")\n",
    "\n",
    "from pyspark.sql.functions import *\n",
    "\n",
    "df_transformed = df.withColumn(\"Temperature_F\", round(col(\"Temperature_C\") * 9/5 + 32, 2))\n",
    "\n",
    "df_transformed.show(5)\n",
    "\n",
    "df_transformed.write.mode(\"overwrite\").format(\"delta\").save(\"dbfs:/FileStore/shared_uploads/traininguser4@sudosu.ai/trnsfrmd_data\")\n",
    "\n",
    "print(\"Transformation complete and saved data\")\n"
   ]
  },
  {
   "cell_type": "code",
   "execution_count": 0,
   "metadata": {
    "application/vnd.databricks.v1+cell": {
     "cellMetadata": {},
     "inputWidgets": {},
     "nuid": "9df9b6a6-4800-4594-b3f5-39b811496497",
     "showTitle": false,
     "tableResultSettingsMap": {},
     "title": ""
    }
   },
   "outputs": [],
   "source": []
  }
 ],
 "metadata": {
  "application/vnd.databricks.v1+notebook": {
   "computePreferences": null,
   "dashboards": [],
   "environmentMetadata": {
    "base_environment": "",
    "environment_version": "2"
   },
   "inputWidgetPreferences": null,
   "language": "python",
   "notebookMetadata": {
    "pythonIndentUnit": 4
   },
   "notebookName": "Transform_data",
   "widgets": {}
  },
  "language_info": {
   "name": "python"
  }
 },
 "nbformat": 4,
 "nbformat_minor": 0
}