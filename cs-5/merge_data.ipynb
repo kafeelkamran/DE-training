{
 "cells": [
  {
   "cell_type": "code",
   "execution_count": 0,
   "metadata": {
    "application/vnd.databricks.v1+cell": {
     "cellMetadata": {
      "byteLimit": 2048000,
      "rowLimit": 10000
     },
     "inputWidgets": {},
     "nuid": "cd45c480-6bb0-4c1d-84c3-c7677b142f06",
     "showTitle": false,
     "tableResultSettingsMap": {},
     "title": ""
    }
   },
   "outputs": [
    {
     "output_type": "stream",
     "name": "stdout",
     "output_type": "stream",
     "text": [
      "Reading transformed data...\nReading DQ results JSON...\nDQ Report: {\"check\":\"Sensor Data Quality\",\"check_level\":\"Error\",\"check_status\":\"Success\",\"constraint\":\"ComplianceConstraint(Compliance(Status contained in OK,WARNING,ALERT,`Status` IS NULL OR `Status` IN ('OK','WARNING','ALERT'),None))\",\"constraint_status\":\"Success\",\"constraint_message\":\"\"}\nSample transformed data:\n+-------+---------+-------------------+-------------+------------+--------------+------------+----------+------+-------------+\n|PlantID| DeviceID|       TimestampUTC|Temperature_C|Humidity_pct|Vibration_mm_s|Pressure_bar|Energy_kWh|Status|Temperature_F|\n+-------+---------+-------------------+-------------+------------+--------------+------------+----------+------+-------------+\n|PLANT_A|SENSOR_A1|2025-08-14 09:00:00|         72.4|        45.6|           2.1|         3.2|       5.4|    OK|       162.32|\n|PLANT_A|SENSOR_A2|2025-08-14 09:00:05|         71.9|        46.2|           2.0|         3.3|       5.5|    OK|       161.42|\n|PLANT_A|SENSOR_A3|2025-08-14 09:00:10|         73.1|        45.8|           2.4|         3.4|       5.6|    OK|       163.58|\n|PLANT_B|SENSOR_B1|2025-08-14 09:00:15|         68.9|        48.0|           1.9|         3.1|       4.9|    OK|       156.02|\n|PLANT_B|SENSOR_B2|2025-08-14 09:00:20|         69.5|        47.5|           2.3|         3.0|       5.0|    OK|        157.1|\n+-------+---------+-------------------+-------------+------------+--------------+------------+----------+------+-------------+\nonly showing top 5 rows\nFinal result generated\n"
     ]
    }
   ],
   "source": [
    "# Databricks notebook source\n",
    "print(\"Reading transformed data...\")\n",
    "df_transformed = spark.read.format(\"delta\").load(\"dbfs:/FileStore/shared_uploads/traininguser4@sudosu.ai/trnsfrmd_data\")\n",
    "\n",
    "print(\"Reading DQ results JSON...\")\n",
    "dq_json = spark.read.text(\"dbfs:/FileStore/shared_uploads/traininguser4@sudosu.ai/dq_results\").collect()[0][0]\n",
    "print(\"DQ Report:\", dq_json)\n",
    "\n",
    "print(\"Sample transformed data:\")\n",
    "df_transformed.show(5)\n",
    "\n",
    "print(\"Final result generated\")\n"
   ]
  },
  {
   "cell_type": "code",
   "execution_count": 0,
   "metadata": {
    "application/vnd.databricks.v1+cell": {
     "cellMetadata": {},
     "inputWidgets": {},
     "nuid": "cff7ac19-a997-41d7-a386-16e9d2c3bb82",
     "showTitle": false,
     "tableResultSettingsMap": {},
     "title": ""
    }
   },
   "outputs": [],
   "source": []
  }
 ],
 "metadata": {
  "application/vnd.databricks.v1+notebook": {
   "computePreferences": null,
   "dashboards": [],
   "environmentMetadata": {
    "base_environment": "",
    "environment_version": "2"
   },
   "inputWidgetPreferences": null,
   "language": "python",
   "notebookMetadata": {
    "pythonIndentUnit": 4
   },
   "notebookName": "merge_data",
   "widgets": {}
  },
  "language_info": {
   "name": "python"
  }
 },
 "nbformat": 4,
 "nbformat_minor": 0
}