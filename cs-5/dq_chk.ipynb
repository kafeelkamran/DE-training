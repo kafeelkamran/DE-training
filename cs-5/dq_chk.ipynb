{
 "cells": [
  {
   "cell_type": "code",
   "execution_count": 0,
   "metadata": {
    "application/vnd.databricks.v1+cell": {
     "cellMetadata": {
      "byteLimit": 2048000,
      "rowLimit": 10000
     },
     "inputWidgets": {},
     "nuid": "acf8096d-2ff6-4d9c-a908-415053e873d3",
     "showTitle": false,
     "tableResultSettingsMap": {},
     "title": ""
    }
   },
   "outputs": [
    {
     "output_type": "stream",
     "name": "stdout",
     "output_type": "stream",
     "text": [
      "Collecting pydeequ\n  Downloading pydeequ-1.5.0-py3-none-any.whl.metadata (9.7 kB)\nRequirement already satisfied: numpy>=1.14.1 in /databricks/python3/lib/python3.12/site-packages (from pydeequ) (1.26.4)\nRequirement already satisfied: pandas>=0.23.0 in /databricks/python3/lib/python3.12/site-packages (from pydeequ) (1.5.3)\nRequirement already satisfied: python-dateutil>=2.8.1 in /databricks/python3/lib/python3.12/site-packages (from pandas>=0.23.0->pydeequ) (2.9.0.post0)\nRequirement already satisfied: pytz>=2020.1 in /databricks/python3/lib/python3.12/site-packages (from pandas>=0.23.0->pydeequ) (2024.1)\nRequirement already satisfied: six>=1.5 in /usr/lib/python3/dist-packages (from python-dateutil>=2.8.1->pandas>=0.23.0->pydeequ) (1.16.0)\nDownloading pydeequ-1.5.0-py3-none-any.whl (37 kB)\nInstalling collected packages: pydeequ\nSuccessfully installed pydeequ-1.5.0\n\u001B[43mNote: you may need to restart the kernel using %restart_python or dbutils.library.restartPython() to use updated packages.\u001B[0m\n"
     ]
    }
   ],
   "source": [
    "%pip install pydeequ"
   ]
  },
  {
   "cell_type": "code",
   "execution_count": 0,
   "metadata": {
    "application/vnd.databricks.v1+cell": {
     "cellMetadata": {
      "byteLimit": 2048000,
      "rowLimit": 10000
     },
     "inputWidgets": {},
     "nuid": "6de49ae6-072b-4767-b63a-26ec893e285f",
     "showTitle": false,
     "tableResultSettingsMap": {},
     "title": ""
    }
   },
   "outputs": [],
   "source": [
    "%restart_python"
   ]
  },
  {
   "cell_type": "code",
   "execution_count": 0,
   "metadata": {
    "application/vnd.databricks.v1+cell": {
     "cellMetadata": {
      "byteLimit": 2048000,
      "rowLimit": 10000
     },
     "inputWidgets": {},
     "nuid": "c1b70189-a212-4067-9394-1956718ac7ab",
     "showTitle": false,
     "tableResultSettingsMap": {},
     "title": ""
    }
   },
   "outputs": [
    {
     "output_type": "stream",
     "name": "stdout",
     "output_type": "stream",
     "text": [
      "Reading raw data\nDq checks passed\nDq results:-\n"
     ]
    },
    {
     "output_type": "stream",
     "name": "stderr",
     "output_type": "stream",
     "text": [
      "/databricks/spark/python/pyspark/sql/dataframe.py:163: UserWarning: DataFrame constructor is internal. Do not directly use it.\n  warnings.warn(\"DataFrame constructor is internal. Do not directly use it.\")\n"
     ]
    },
    {
     "output_type": "display_data",
     "data": {
      "text/html": [
       "<style scoped>\n",
       "  .table-result-container {\n",
       "    max-height: 300px;\n",
       "    overflow: auto;\n",
       "  }\n",
       "  table, th, td {\n",
       "    border: 1px solid black;\n",
       "    border-collapse: collapse;\n",
       "  }\n",
       "  th, td {\n",
       "    padding: 5px;\n",
       "  }\n",
       "  th {\n",
       "    text-align: left;\n",
       "  }\n",
       "</style><div class='table-result-container'><table class='table-result'><thead style='background-color: white'><tr><th>check</th><th>check_level</th><th>check_status</th><th>constraint</th><th>constraint_status</th><th>constraint_message</th></tr></thead><tbody><tr><td>Sensor Data Quality</td><td>Error</td><td>Success</td><td>ComplianceConstraint(Compliance(Status contained in OK,WARNING,ALERT,`Status` IS NULL OR `Status` IN ('OK','WARNING','ALERT'),None))</td><td>Success</td><td></td></tr></tbody></table></div>"
      ]
     },
     "metadata": {
      "application/vnd.databricks.v1+output": {
       "addedWidgets": {},
       "aggData": [],
       "aggError": "",
       "aggOverflow": false,
       "aggSchema": [],
       "aggSeriesLimitReached": false,
       "aggType": "",
       "arguments": {},
       "columnCustomDisplayInfos": {},
       "data": [
        [
         "Sensor Data Quality",
         "Error",
         "Success",
         "ComplianceConstraint(Compliance(Status contained in OK,WARNING,ALERT,`Status` IS NULL OR `Status` IN ('OK','WARNING','ALERT'),None))",
         "Success",
         ""
        ]
       ],
       "datasetInfos": [],
       "dbfsResultPath": null,
       "isJsonSchema": true,
       "metadata": {},
       "overflow": false,
       "plotOptions": {
        "customPlotOptions": {},
        "displayType": "table",
        "pivotAggregation": null,
        "pivotColumns": null,
        "xColumns": null,
        "yColumns": null
       },
       "removedWidgets": [],
       "schema": [
        {
         "metadata": "{}",
         "name": "check",
         "type": "\"string\""
        },
        {
         "metadata": "{}",
         "name": "check_level",
         "type": "\"string\""
        },
        {
         "metadata": "{}",
         "name": "check_status",
         "type": "\"string\""
        },
        {
         "metadata": "{}",
         "name": "constraint",
         "type": "\"string\""
        },
        {
         "metadata": "{}",
         "name": "constraint_status",
         "type": "\"string\""
        },
        {
         "metadata": "{}",
         "name": "constraint_message",
         "type": "\"string\""
        }
       ],
       "type": "table"
      }
     },
     "output_type": "display_data"
    },
    {
     "output_type": "stream",
     "name": "stdout",
     "output_type": "stream",
     "text": [
      "[\n  {\n    \"check\": \"Sensor Data Quality\",\n    \"check_level\": \"Error\",\n    \"check_status\": \"Success\",\n    \"constraint\": \"ComplianceConstraint(Compliance(Status contained in OK,WARNING,ALERT,`Status` IS NULL OR `Status` IN ('OK','WARNING','ALERT'),None))\",\n    \"constraint_status\": \"Success\",\n    \"constraint_message\": \"\"\n  }\n]\nDQ Check complete.\n"
     ]
    }
   ],
   "source": [
    "import os\n",
    "os.environ[\"SPARK_VERSION\"] = \"3.5\"\n",
    "\n",
    "print(\"Reading raw data\")\n",
    "df = spark.read.format(\"delta\").load(\"dbfs:/FileStore/shared_uploads/traininguser4@sudosu.ai/raw_data\")\n",
    "\n",
    "from pydeequ.checks import Check, CheckLevel\n",
    "from pydeequ.verification import VerificationSuite,VerificationResult\n",
    "import json\n",
    "\n",
    "check = Check(spark, CheckLevel.Error, \"Sensor Data Quality\")\\\n",
    "    .isContainedIn(\"Status\", [\"OK\", \"WARNING\", \"ALERT\"])\n",
    "\n",
    "result = VerificationSuite(spark).onData(df).addCheck(check).run()\n",
    "\n",
    "\n",
    "if result.status != \"Success\":\n",
    "    print(\"Dq checks failed.\")\n",
    "else:\n",
    "    print(\"Dq checks passed\")\n",
    "\n",
    "print(\"Dq results:-\")\n",
    "result_df = VerificationResult.checkResultsAsDataFrame(spark, result)\n",
    "display(result_df)\n",
    "\n",
    "output_path = f\"dbfs:/FileStore/shared_uploads/traininguser4@sudosu.ai/dq_results\"\n",
    "result_df.write.mode(\"overwrite\").json(output_path)\n",
    "results_json = [json.loads(row.value) for row in spark.read.text(output_path).collect()]\n",
    "print(json.dumps(results_json, indent=2))\n",
    "\n",
    "print(\"DQ Check complete.\")\n"
   ]
  },
  {
   "cell_type": "code",
   "execution_count": 0,
   "metadata": {
    "application/vnd.databricks.v1+cell": {
     "cellMetadata": {},
     "inputWidgets": {},
     "nuid": "38ec62b2-2e46-4f72-924b-f511be05c65e",
     "showTitle": false,
     "tableResultSettingsMap": {},
     "title": ""
    }
   },
   "outputs": [],
   "source": []
  }
 ],
 "metadata": {
  "application/vnd.databricks.v1+notebook": {
   "computePreferences": null,
   "dashboards": [],
   "environmentMetadata": {
    "base_environment": "",
    "environment_version": "2"
   },
   "inputWidgetPreferences": null,
   "language": "python",
   "notebookMetadata": {
    "pythonIndentUnit": 4
   },
   "notebookName": "dq_chk",
   "widgets": {}
  },
  "language_info": {
   "name": "python"
  }
 },
 "nbformat": 4,
 "nbformat_minor": 0
}