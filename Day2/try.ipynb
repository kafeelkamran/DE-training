{
 "cells": [
  {
   "cell_type": "code",
   "execution_count": 2,
   "id": "fa6fa91f",
   "metadata": {},
   "outputs": [
    {
     "name": "stdout",
     "output_type": "stream",
     "text": [
      "CPU times: total: 0 ns\n",
      "Wall time: 93.9 μs\n"
     ]
    },
    {
     "data": {
      "text/plain": [
       "49995000"
      ]
     },
     "execution_count": 2,
     "metadata": {},
     "output_type": "execute_result"
    }
   ],
   "source": [
    "%time sum(range(10000))"
   ]
  },
  {
   "cell_type": "code",
   "execution_count": 1,
   "id": "9f0b5ef4",
   "metadata": {},
   "outputs": [
    {
     "name": "stdout",
     "output_type": "stream",
     "text": [
      "[0, 1, 4, 9, 16, 25, 36, 49, 64, 81]\n",
      "[0, 2, 4, 6, 8]\n",
      "=========IN MAP=========\n",
      "[0, 1, 4, 9, 16, 25, 36, 49, 64, 81]\n",
      "[0, 2, 4, 6, 8]\n"
     ]
    }
   ],
   "source": [
    "square = [x**2 for x in range(10)]\n",
    "even = [x for x in range(10) if x%2==0]\n",
    "print(square)\n",
    "print(even)\n",
    "\n",
    "print(\"=========IN MAP=========\")\n",
    "squareMap = list(map(lambda x:x**2, range(10)))\n",
    "evenMap = list(filter(lambda x:x%2==0, range(10)))\n",
    "print(squareMap)\n",
    "print(evenMap)"
   ]
  },
  {
   "cell_type": "code",
   "execution_count": 3,
   "id": "5f1d3c7c",
   "metadata": {},
   "outputs": [
    {
     "name": "stdout",
     "output_type": "stream",
     "text": [
      "Access denied..\n",
      "Login successful..!!\n",
      "Welcome to the Dashboard..!!\n",
      "Authentication error you have been logged out.\n",
      "Access denied..\n"
     ]
    }
   ],
   "source": [
    "%run require_auth.py"
   ]
  },
  {
   "cell_type": "code",
   "execution_count": null,
   "id": "937c3d12",
   "metadata": {},
   "outputs": [],
   "source": []
  }
 ],
 "metadata": {
  "kernelspec": {
   "display_name": "Python 3",
   "language": "python",
   "name": "python3"
  },
  "language_info": {
   "codemirror_mode": {
    "name": "ipython",
    "version": 3
   },
   "file_extension": ".py",
   "mimetype": "text/x-python",
   "name": "python",
   "nbconvert_exporter": "python",
   "pygments_lexer": "ipython3",
   "version": "3.13.5"
  }
 },
 "nbformat": 4,
 "nbformat_minor": 5
}
