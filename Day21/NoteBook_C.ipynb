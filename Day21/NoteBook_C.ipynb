{
 "cells": [
  {
   "cell_type": "code",
   "execution_count": 0,
   "metadata": {
    "application/vnd.databricks.v1+cell": {
     "cellMetadata": {
      "byteLimit": 2048000,
      "rowLimit": 10000
     },
     "inputWidgets": {},
     "nuid": "250a2955-11ee-42b1-858b-5ba8297b73f2",
     "showTitle": false,
     "tableResultSettingsMap": {},
     "title": ""
    }
   },
   "outputs": [
    {
     "output_type": "stream",
     "name": "stdout",
     "output_type": "stream",
     "text": [
      "\nData Quality Alert for 2025-08-11:\n- Actual Rows: 97000\n- Expected Rows: 100000\n- Error Count: 50\n\n"
     ]
    }
   ],
   "source": [
    "import json\n",
    "\n",
    "dbutils.widgets.text(\"metrics\", \"{}\")\n",
    "metrics = json.loads(dbutils.widgets.get(\"metrics\"))\n",
    "\n",
    "# Simulate sending alert\n",
    "alert_msg = f\"\"\"\n",
    "Data Quality Alert for {metrics['date']}:\n",
    "- Actual Rows: {metrics['actual_rows']}\n",
    "- Expected Rows: {metrics['expected_rows']}\n",
    "- Error Count: {metrics['error_count']}\n",
    "\"\"\"\n",
    "print(alert_msg)\n",
    "# send_email(\"data-team@example.com\", alert_msg)"
   ]
  },
  {
   "cell_type": "code",
   "execution_count": 0,
   "metadata": {
    "application/vnd.databricks.v1+cell": {
     "cellMetadata": {},
     "inputWidgets": {},
     "nuid": "02494bb7-38c5-4400-85f5-51084f170ab8",
     "showTitle": false,
     "tableResultSettingsMap": {},
     "title": ""
    }
   },
   "outputs": [],
   "source": []
  }
 ],
 "metadata": {
  "application/vnd.databricks.v1+notebook": {
   "computePreferences": null,
   "dashboards": [],
   "environmentMetadata": {
    "base_environment": "",
    "environment_version": "2"
   },
   "inputWidgetPreferences": null,
   "language": "python",
   "notebookMetadata": {
    "pythonIndentUnit": 4
   },
   "notebookName": "NoteBook_C",
   "widgets": {
    "metrics": {
     "currentValue": "{\"date\": \"2025-08-11\", \"expected_rows\": 100000, \"actual_rows\": 97000, \"error_count\": 50, \"completion_time\": \"2025-08-11T11:20:36.083667\"}",
     "nuid": "b4502088-09df-4afe-a85d-b80fcbef4860",
     "typedWidgetInfo": {
      "autoCreated": false,
      "defaultValue": "{}",
      "label": null,
      "name": "metrics",
      "options": {
       "widgetDisplayType": "Text",
       "validationRegex": null
      },
      "parameterDataType": "String"
     },
     "widgetInfo": {
      "widgetType": "text",
      "defaultValue": "{}",
      "label": null,
      "name": "metrics",
      "options": {
       "widgetType": "text",
       "autoCreated": null,
       "validationRegex": null
      }
     }
    }
   }
  },
  "language_info": {
   "name": "python"
  }
 },
 "nbformat": 4,
 "nbformat_minor": 0
}