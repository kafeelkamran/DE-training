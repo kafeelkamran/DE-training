{
 "cells": [
  {
   "cell_type": "code",
   "execution_count": 0,
   "metadata": {
    "application/vnd.databricks.v1+cell": {
     "cellMetadata": {
      "byteLimit": 2048000,
      "rowLimit": 10000
     },
     "inputWidgets": {},
     "nuid": "1c6f0daa-49c4-4475-aafe-3409770b8141",
     "showTitle": false,
     "tableResultSettingsMap": {},
     "title": ""
    }
   },
   "outputs": [
    {
     "output_type": "stream",
     "name": "stdout",
     "output_type": "stream",
     "text": [
      "Loading data for 2025-08-10 into Delta Lake...\n"
     ]
    }
   ],
   "source": [
    "dbutils.widgets.text(\"process_date\", \"2025-08-10\")\n",
    "process_date = dbutils.widgets.get(\"process_date\")\n",
    "\n",
    "# Simulate data loading\n",
    "print(f\"Loading data for {process_date} into Delta Lake...\")\n",
    "# delta_table.write.format(\"delta\").mode(\"append\").save(\"/mnt/delta/sales\")"
   ]
  },
  {
   "cell_type": "code",
   "execution_count": 0,
   "metadata": {
    "application/vnd.databricks.v1+cell": {
     "cellMetadata": {},
     "inputWidgets": {},
     "nuid": "6b91de47-9007-4521-a7c6-a39f6e1b7752",
     "showTitle": false,
     "tableResultSettingsMap": {},
     "title": ""
    }
   },
   "outputs": [],
   "source": []
  }
 ],
 "metadata": {
  "application/vnd.databricks.v1+notebook": {
   "computePreferences": null,
   "dashboards": [],
   "environmentMetadata": {
    "base_environment": "",
    "environment_version": "2"
   },
   "inputWidgetPreferences": null,
   "language": "python",
   "notebookMetadata": {
    "pythonIndentUnit": 4
   },
   "notebookName": "NoteBook_B",
   "widgets": {
    "process_date": {
     "currentValue": "2025-08-10",
     "nuid": "93844d9a-cabd-4a8f-8dd0-159def2405d1",
     "typedWidgetInfo": {
      "autoCreated": false,
      "defaultValue": "2025-08-10",
      "label": null,
      "name": "process_date",
      "options": {
       "widgetDisplayType": "Text",
       "validationRegex": null
      },
      "parameterDataType": "String"
     },
     "widgetInfo": {
      "widgetType": "text",
      "defaultValue": "2025-08-10",
      "label": null,
      "name": "process_date",
      "options": {
       "widgetType": "text",
       "autoCreated": null,
       "validationRegex": null
      }
     }
    }
   }
  },
  "language_info": {
   "name": "python"
  }
 },
 "nbformat": 4,
 "nbformat_minor": 0
}