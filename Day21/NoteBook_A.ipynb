{
 "cells": [
  {
   "cell_type": "code",
   "execution_count": 0,
   "metadata": {
    "application/vnd.databricks.v1+cell": {
     "cellMetadata": {
      "byteLimit": 2048000,
      "rowLimit": 10000
     },
     "inputWidgets": {},
     "nuid": "9305d7fc-84a4-4119-9c95-daed1c59c0ec",
     "showTitle": false,
     "tableResultSettingsMap": {},
     "title": ""
    }
   },
   "outputs": [],
   "source": [
    "import json\n",
    "from datetime import datetime\n",
    "\n",
    "# Parameters\n",
    "dbutils.widgets.text(\"process_date\", datetime.today().strftime('%Y-%m-%d'))\n",
    "process_date = dbutils.widgets.get(\"process_date\")\n",
    "\n",
    "# Simulate reading and processing data\n",
    "expected_rows = 100000\n",
    "actual_rows = 97000\n",
    "error_count = 50\n",
    "\n",
    "# Prepare metrics JSON\n",
    "metrics = {\n",
    "\"date\": process_date,\n",
    "\"expected_rows\": expected_rows,\n",
    "\"actual_rows\": actual_rows,\n",
    "\"error_count\": error_count,\n",
    "\"completion_time\": datetime.now().isoformat()\n",
    "}\n",
    "# Return metrics JSON\n",
    "\n",
    "dbutils.notebook.exit(json.dumps(metrics))"
   ]
  }
 ],
 "metadata": {
  "application/vnd.databricks.v1+notebook": {
   "computePreferences": null,
   "dashboards": [],
   "environmentMetadata": {
    "base_environment": "",
    "environment_version": "2"
   },
   "inputWidgetPreferences": null,
   "language": "python",
   "notebookMetadata": {
    "pythonIndentUnit": 4
   },
   "notebookName": "NoteBook_A",
   "widgets": {
    "process_date": {
     "currentValue": "2025-08-11",
     "nuid": "cb76d983-ef7e-4098-8d08-d20d5d5b4e43",
     "typedWidgetInfo": {
      "autoCreated": false,
      "defaultValue": "2025-08-10",
      "label": null,
      "name": "process_date",
      "options": {
       "widgetDisplayType": "Text",
       "validationRegex": null
      },
      "parameterDataType": "String"
     },
     "widgetInfo": {
      "widgetType": "text",
      "defaultValue": "2025-08-10",
      "label": null,
      "name": "process_date",
      "options": {
       "widgetType": "text",
       "autoCreated": null,
       "validationRegex": null
      }
     }
    }
   }
  },
  "language_info": {
   "name": "python"
  }
 },
 "nbformat": 4,
 "nbformat_minor": 0
}