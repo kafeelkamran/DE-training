{
 "cells": [
  {
   "cell_type": "code",
   "execution_count": 0,
   "metadata": {
    "application/vnd.databricks.v1+cell": {
     "cellMetadata": {
      "byteLimit": 2048000,
      "rowLimit": 10000
     },
     "inputWidgets": {},
     "nuid": "7927ad78-15e2-43c2-bede-2c4dc1e52e3f",
     "showTitle": false,
     "tableResultSettingsMap": {},
     "title": ""
    }
   },
   "outputs": [
    {
     "output_type": "stream",
     "name": "stdout",
     "output_type": "stream",
     "text": [
      "Thresholds met – triggering Load Notebook...\n"
     ]
    }
   ],
   "source": [
    "import json\n",
    "\n",
    "# Step 1: Run ETL notebook\n",
    "etl_output = dbutils.notebook.run(\"NoteBook_A\", 300, {\"process_date\": \"2025-08-10\"})\n",
    "metrics = json.loads(etl_output)\n",
    "\n",
    "# Step 2: Apply business rules\n",
    "row_threshold = metrics[\"actual_rows\"] / metrics[\"expected_rows\"]\n",
    "error_threshold = metrics[\"error_count\"]\n",
    "if row_threshold >= 0.95 and error_threshold < 100:\n",
    "    print(\"Thresholds met – triggering Load Notebook...\")\n",
    "    dbutils.notebook.run(\"NoteBook_B\", 300, {\"process_date\": metrics[\"date\"]})\n",
    "else:\n",
    "    print(\"Thresholds NOT met – triggering Alert Notebook...\")\n",
    "    dbutils.notebook.run(\"NoteBook_C\", 60, {\"metrics\": json.dumps(metrics)})"
   ]
  },
  {
   "cell_type": "code",
   "execution_count": 0,
   "metadata": {
    "application/vnd.databricks.v1+cell": {
     "cellMetadata": {},
     "inputWidgets": {},
     "nuid": "a0256901-6900-46a6-bbab-40e7f35b19ad",
     "showTitle": false,
     "tableResultSettingsMap": {},
     "title": ""
    }
   },
   "outputs": [],
   "source": []
  }
 ],
 "metadata": {
  "application/vnd.databricks.v1+notebook": {
   "computePreferences": null,
   "dashboards": [],
   "environmentMetadata": {
    "base_environment": "",
    "environment_version": "2"
   },
   "inputWidgetPreferences": null,
   "language": "python",
   "notebookMetadata": {
    "pythonIndentUnit": 4
   },
   "notebookName": "Parent NoteBook",
   "widgets": {}
  },
  "language_info": {
   "name": "python"
  }
 },
 "nbformat": 4,
 "nbformat_minor": 0
}